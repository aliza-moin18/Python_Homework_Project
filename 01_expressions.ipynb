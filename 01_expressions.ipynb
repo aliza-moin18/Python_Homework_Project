{
  "nbformat": 4,
  "nbformat_minor": 0,
  "metadata": {
    "colab": {
      "provenance": [],
      "authorship_tag": "ABX9TyPEkjLs6Dgr6qtjqORKklIP",
      "include_colab_link": true
    },
    "kernelspec": {
      "name": "python3",
      "display_name": "Python 3"
    },
    "language_info": {
      "name": "python"
    }
  },
  "cells": [
    {
      "cell_type": "markdown",
      "metadata": {
        "id": "view-in-github",
        "colab_type": "text"
      },
      "source": [
        "<a href=\"https://colab.research.google.com/github/aliza-moin18/Python_Homework_Project/blob/main/01_expressions.ipynb\" target=\"_parent\"><img src=\"https://colab.research.google.com/assets/colab-badge.svg\" alt=\"Open In Colab\"/></a>"
      ]
    },
    {
      "cell_type": "markdown",
      "source": [
        "##  **Problem 01 _ dicesimulator ( import random )**    "
      ],
      "metadata": {
        "id": "d1oFJPAJRWMA"
      }
    },
    {
      "cell_type": "code",
      "source": [
        "import random\n",
        "\n",
        "Number_Dies = 3\n",
        "\n",
        "def roll_dice():\n",
        "  deis1 : int = random.randint(1, Number_Dies)\n",
        "  deis2 : int = random.randint(1, Number_Dies)\n",
        "  total = deis1 + deis2\n",
        "  print(\"Total 2 deis : \", total)\n",
        "\n",
        "def main():\n",
        "  deis : int = 20\n",
        "  roll_dice()\n",
        "  roll_dice()\n",
        "  roll_dice()\n",
        "  print(\"All collect detail deis: \", str(deis))\n",
        "\n",
        "if __name__ == \"__main__\":\n",
        "  main()\n"
      ],
      "metadata": {
        "id": "b2xGR2n23kB9"
      },
      "execution_count": null,
      "outputs": []
    },
    {
      "cell_type": "markdown",
      "source": [
        "## **Problem 02 _ e = mc2 ( using Einstein's equation )**"
      ],
      "metadata": {
        "id": "KMavaT-J0cew"
      }
    },
    {
      "cell_type": "code",
      "source": [
        "C = 299792458\n",
        "\n",
        "def main():\n",
        "    mass = float(input(\"Enter the mass in kilograms: \"))\n",
        "    energy = mass * (C ** 2)            # Einstein's equation\n",
        "\n",
        "    print(\"e = m * C^2...\")                # Einstein's formula print\n",
        "    print(\"m = \" + str(mass) + \"kg\")          # mass\n",
        "    print(\"c = \" + str(C) + \"m/s\")          # speed of light\n",
        "\n",
        "    print(str(energy) + \"Joules of energy\")\n",
        "\n",
        "if __name__ == \"__main__\":\n",
        "  main()"
      ],
      "metadata": {
        "id": "VtLl5wZjsbIX"
      },
      "execution_count": null,
      "outputs": []
    },
    {
      "cell_type": "markdown",
      "source": [
        "## **Problem 03 _ feet to inches.**"
      ],
      "metadata": {
        "id": "asjWp6SG5idl"
      }
    },
    {
      "cell_type": "code",
      "source": [
        "INCHES_IN_FOOT  = 12\n",
        "\n",
        "def main():\n",
        "   feet = float(input(\"Enter the number of feet: \"))\n",
        "   inches = float(feet * INCHES_IN_FOOT)\n",
        "\n",
        "   print(\"That is \", inches , \"inches! \")\n",
        "\n",
        "if __name__ == \"__main__\":\n",
        "  main()"
      ],
      "metadata": {
        "id": "pv77-OHq3qp5"
      },
      "execution_count": null,
      "outputs": []
    },
    {
      "cell_type": "markdown",
      "source": [
        "## **Problem 04 _ Pythagorean Theorem**"
      ],
      "metadata": {
        "id": "tqQAjFIhNlSp"
      }
    },
    {
      "cell_type": "code",
      "source": [
        "import math\n",
        "\n",
        "def main():\n",
        "    print(\"\\n🔺 Right Triangle Hypotenuse Calculator 🔺\\n\")\n",
        "\n",
        "    # Taking user input for two perpendicular sides\n",
        "    ab = float(input(\"Enter the length of AB: \"))\n",
        "    ac = float(input(\"Enter the length of AC: \"))\n",
        "\n",
        "    # Calculating the hypotenuse using Pythagorean theorem\n",
        "    bc = math.sqrt(ab**2 + ac**2)\n",
        "\n",
        "    # Displaying the result with formatting\n",
        "    print(f\"\\nThe length of BC (the hypotenuse) is: {bc:.2f} 📏\")\n",
        "\n",
        "if __name__ == \"__main__\":\n",
        "    main()\n"
      ],
      "metadata": {
        "id": "09MbIt4-Nigi"
      },
      "execution_count": null,
      "outputs": []
    },
    {
      "cell_type": "markdown",
      "source": [
        "### **Problem 05 _ Remainder Division ( using modulus & floor division )**"
      ],
      "metadata": {
        "id": "R7MCGP01IRgf"
      }
    },
    {
      "cell_type": "code",
      "source": [
        "def main():\n",
        "    dividend = int(input(\"Enter the number you want to divide: \"))\n",
        "    divisor = int(input(\"Which number do you want to divide by? \"))\n",
        "\n",
        "    quotient = dividend // divisor\n",
        "    remainder = dividend % divisor\n",
        "\n",
        "    print(f\"The result of this division is {quotient} with a remainder of {remainder}\")\n",
        "\n",
        "if __name__ == \"__main__\":\n",
        "   main()"
      ],
      "metadata": {
        "id": "hCrsPbTVEuWi"
      },
      "execution_count": null,
      "outputs": []
    },
    {
      "cell_type": "markdown",
      "source": [
        "## **Problem 06 _ Seconds in Year**"
      ],
      "metadata": {
        "id": "7o3MUUJcCq9k"
      }
    },
    {
      "cell_type": "code",
      "source": [
        "Days_Per_Year : int = 365\n",
        "Hours_Per_Day : int = 24\n",
        "Minutes_Per_Hour : int = 60\n",
        "Seconds_Per_Minute : int = 60\n",
        "\n",
        "def main():\n",
        "\n",
        "   print(\"There are \"+ str(Days_Per_Year * Hours_Per_Day * Minutes_Per_Hour * Seconds_Per_Minute) + \" seconds in a year\")\n",
        "\n",
        "if __name__ == \"__main__\":\n",
        "  main()"
      ],
      "metadata": {
        "id": "qjr4VTxYB3Vn"
      },
      "execution_count": null,
      "outputs": []
    },
    {
      "cell_type": "markdown",
      "source": [
        "## **Problem 07 _ Tiny mad Lib**"
      ],
      "metadata": {
        "id": "65vYHEWrMiMy"
      }
    },
    {
      "cell_type": "code",
      "source": [
        "Sentence_start = \"Agar tum ek AI robot bana sakti jo kisi ek skill mein expert ho, toh wo kya karta? 🤖\"\n",
        "\n",
        "def main():\n",
        "    adjective_2 = input(\"Enter an adjective for AI (e.g., intelligent, fast, helpful): \")\n",
        "    noun_2 = input(\"Enter a noun related to AI (e.g., assistant, robot, machine): \")\n",
        "    verb_2 = input(\"Enter a verb related to AI (e.g., solve, think, assist): \")\n",
        "\n",
        "    print(f\"{Sentence_start} Mera AI {noun_2} ka naam 'Super {adjective_2} {noun_2}' hota jo duniya ke sabse mushkil problems {verb_2} kar sakta! 🤖🔥\")\n",
        "\n",
        "if __name__ == \"__main__\":\n",
        "    main()\n"
      ],
      "metadata": {
        "id": "S6s6htMTPIxE"
      },
      "execution_count": null,
      "outputs": []
    }
  ]
}