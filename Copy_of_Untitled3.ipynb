{
  "nbformat": 4,
  "nbformat_minor": 0,
  "metadata": {
    "colab": {
      "provenance": [],
      "authorship_tag": "ABX9TyO8JqGC54CgdggTlp+6ISA9",
      "include_colab_link": true
    },
    "kernelspec": {
      "name": "python3",
      "display_name": "Python 3"
    },
    "language_info": {
      "name": "python"
    }
  },
  "cells": [
    {
      "cell_type": "markdown",
      "metadata": {
        "id": "view-in-github",
        "colab_type": "text"
      },
      "source": [
        "<a href=\"https://colab.research.google.com/github/aliza-moin18/Python_Homework_Project/blob/main/Copy_of_Untitled3.ipynb\" target=\"_parent\"><img src=\"https://colab.research.google.com/assets/colab-badge.svg\" alt=\"Open In Colab\"/></a>"
      ]
    },
    {
      "cell_type": "markdown",
      "source": [
        "**01__Add Two Number**"
      ],
      "metadata": {
        "id": "c9Ht3t1jv_8s"
      }
    },
    {
      "cell_type": "code",
      "source": [
        "def main():\n",
        "\n",
        "   num1 = input(\"Please enter first number\")\n",
        "   num2 = input(\"Please enter second number\")\n",
        "\n",
        "   Combine = int(num1) + int(num2)\n",
        "\n",
        "   print(\"The sum of :\", Combine)\n",
        "\n",
        "if __name__ == \"__main__\":\n",
        "    main()"
      ],
      "metadata": {
        "id": "pzBVHgZoItjS"
      },
      "execution_count": null,
      "outputs": []
    },
    {
      "cell_type": "markdown",
      "source": [
        "**02__Agreement Input**"
      ],
      "metadata": {
        "id": "1yVLGHbY0t1n"
      }
    },
    {
      "cell_type": "markdown",
      "source": [
        "My Code"
      ],
      "metadata": {
        "id": "B3D6f__T1Fg1"
      }
    },
    {
      "cell_type": "code",
      "source": [
        "user = input(\"What's your favorite animal?\")\n",
        "user2 = input(user)\n",
        "print(\"My favorite animal is also\", user2)"
      ],
      "metadata": {
        "id": "N6b7WdIow1Ob"
      },
      "execution_count": null,
      "outputs": []
    },
    {
      "cell_type": "markdown",
      "source": [
        "*Correct Syntx* :"
      ],
      "metadata": {
        "id": "kr_Y3FU51JiU"
      }
    },
    {
      "cell_type": "code",
      "source": [
        "def main():\n",
        "  animal = input(\"Whats your favorite animal?\")\n",
        "  print(\"My favorite animal is also \" + animal +\"!\")\n",
        "\n",
        "if __name__ == \"__main__\":\n",
        "  main()"
      ],
      "metadata": {
        "id": "0DYrDYEqz_Vg"
      },
      "execution_count": null,
      "outputs": []
    },
    {
      "cell_type": "markdown",
      "source": [
        "**03___Fahrenheit to Celsius**"
      ],
      "metadata": {
        "id": "zK9H2MlW9_qa"
      }
    },
    {
      "cell_type": "code",
      "source": [
        "def main():\n",
        "  degree_far = float(input(\"Enter Temperatue in Fahrenheit: \"))\n",
        "  degree_cel = (degree_far - 32) * 5.0/9.0\n",
        "\n",
        "  print(\"The Celsius Temperature is: \", degree_cel)\n",
        "\n",
        "if __name__ == \"__main__\":\n",
        "  main()"
      ],
      "metadata": {
        "id": "KXNwNgIE__H9"
      },
      "execution_count": null,
      "outputs": []
    },
    {
      "cell_type": "markdown",
      "source": [
        "**04___How Old are they**"
      ],
      "metadata": {
        "id": "70S-ypIkCQo2"
      }
    },
    {
      "cell_type": "markdown",
      "source": [
        "*my code*"
      ],
      "metadata": {
        "id": "aNL_e7Fndlmy"
      }
    },
    {
      "cell_type": "code",
      "source": [
        "def main():\n",
        "  Anton = int(21)\n",
        "  Beth = int(21 + 6)\n",
        "  Chen = int(27 + 20)\n",
        "  Drew = int(47 + 21)\n",
        "  Ethan = int(47)\n",
        "\n",
        "  print(\"Anton age is \", Anton)\n",
        "  print(\"Beth age is \", Beth)\n",
        "  print(\"Chen age is \", Chen)\n",
        "  print(\"Drew age is \", Drew)\n",
        "  print(\"Ethan age is \", Ethan)\n",
        "\n",
        "if __name__ == \"__main__\":\n",
        "  main()\n"
      ],
      "metadata": {
        "id": "C8lrxzYlCKgW"
      },
      "execution_count": null,
      "outputs": []
    },
    {
      "cell_type": "markdown",
      "source": [
        "*Correct Syntax*"
      ],
      "metadata": {
        "id": "ODqxE0sVlmJ9"
      }
    },
    {
      "cell_type": "code",
      "source": [
        "def main():\n",
        "  Anton : int = 21\n",
        "  Beth : int = 6 + Anton\n",
        "  Chen : int = 20 + Beth\n",
        "  Drew : int = Chen + Anton\n",
        "  Ethan : int = Chen\n",
        "\n",
        "  print(\"Anton age is \"+ str(Anton))\n",
        "  print(\"Beth age is \"+ str(Beth))\n",
        "  print(\"Chen age is \"+ str(Chen))\n",
        "  print(\"Drew age is \"+ str(Drew))\n",
        "  print(\"Ethan age is \"+ str(Ethan))\n",
        "\n",
        "if __name__ == \"__main__\":\n",
        "  main()"
      ],
      "metadata": {
        "id": "5_wFxooodyyY"
      },
      "execution_count": null,
      "outputs": []
    },
    {
      "cell_type": "markdown",
      "source": [
        "**05___Triangle Perimeter**"
      ],
      "metadata": {
        "id": "MNSsxWVOpvWc"
      }
    },
    {
      "cell_type": "code",
      "source": [
        "def main():\n",
        "  Side1 = float(input(\"Enter first side: \"))\n",
        "  Side2 = float(input(\"Enter second side: \"))\n",
        "  Side3 = float(input(\"Enter third side: \"))\n",
        "\n",
        "  print(\"The perimeter of the triangle is: \", str( Side1 + Side2 + Side3 ))\n",
        "\n",
        "if __name__ == \"__main__\":\n",
        "  main()"
      ],
      "metadata": {
        "id": "jQ40EEIPoaJi"
      },
      "execution_count": null,
      "outputs": []
    },
    {
      "cell_type": "markdown",
      "source": [
        "**06___Square Number**"
      ],
      "metadata": {
        "id": "2TSaBgOBsB-f"
      }
    },
    {
      "cell_type": "markdown",
      "source": [
        "*my code*"
      ],
      "metadata": {
        "id": "8g0t40Wfr5pr"
      }
    },
    {
      "cell_type": "code",
      "source": [
        "def main():\n",
        "  number = float(input(\"Type a nunber to see its square: \"))\n",
        "  print(\"The Square number is: \", number * number)\n",
        "\n",
        "if __name__ == \"__main__\":\n",
        "  main()"
      ],
      "metadata": {
        "id": "2zFDjlYqqq8e"
      },
      "execution_count": null,
      "outputs": []
    },
    {
      "cell_type": "markdown",
      "source": [
        "Correct Syntax"
      ],
      "metadata": {
        "id": "DVd9K1PqsxAT"
      }
    },
    {
      "cell_type": "code",
      "source": [
        "def main():\n",
        "  num : float = float(input(\"Type number see is: \"))\n",
        "  print(str(num) + \" Square is: \" + str(num * num))\n",
        "\n",
        "if __name__ == \"__main__\":\n",
        "  main()"
      ],
      "metadata": {
        "id": "-DTl7ffdsMAT"
      },
      "execution_count": null,
      "outputs": []
    }
  ]
}